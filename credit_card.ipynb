{
  "nbformat": 4,
  "nbformat_minor": 0,
  "metadata": {
    "colab": {
      "provenance": [],
      "gpuType": "T4"
    },
    "kernelspec": {
      "name": "python3",
      "display_name": "Python 3"
    },
    "language_info": {
      "name": "python"
    },
    "accelerator": "GPU"
  },
  "cells": [
    {
      "cell_type": "code",
      "execution_count": 3,
      "metadata": {
        "id": "REbiywFlVLAc"
      },
      "outputs": [],
      "source": [
        "import numpy as np\n",
        "import pandas as pd\n",
        "import matplotlib.pyplot as plt\n",
        "from sklearn.metrics import r2_score\n",
        "from scipy.stats import chi2_contingency\n",
        "from statsmodels.stats.outliers_influence import variance_inflation_factor\n",
        "from sklearn.model_selection import train_test_split\n",
        "from sklearn.ensemble import RandomForestClassifier\n",
        "from sklearn.metrics import accuracy_score, classification_report, precision_recall_fscore_support\n",
        "import warnings\n",
        "import os\n"
      ]
    },
    {
      "cell_type": "code",
      "source": [
        "a1 = pd.read_excel('/content/case_study1.xlsx')\n",
        "a2 = pd.read_excel('/content/case_study2.xlsx')"
      ],
      "metadata": {
        "id": "MFsKyt46VbN5"
      },
      "execution_count": 5,
      "outputs": []
    },
    {
      "cell_type": "code",
      "source": [
        "df1 = a1.copy()\n",
        "df2 = a2.copy()\n"
      ],
      "metadata": {
        "id": "ZCsQjCNyVp6T"
      },
      "execution_count": 6,
      "outputs": []
    },
    {
      "cell_type": "code",
      "source": [
        "columns_to_be_removed = []\n",
        "for i in df2.columns:\n",
        "    if df2.loc[df2[i] == -99999].shape[0] > 10000:\n",
        "        columns_to_be_removed.append(i)"
      ],
      "metadata": {
        "id": "gxuobnOJV6mp"
      },
      "execution_count": 7,
      "outputs": []
    },
    {
      "cell_type": "code",
      "source": [
        "df2 = df2.drop(columns_to_be_removed, axis=1)"
      ],
      "metadata": {
        "id": "TdQjgiCnWV9P"
      },
      "execution_count": 8,
      "outputs": []
    },
    {
      "cell_type": "code",
      "source": [
        "for i in df2.columns:\n",
        "    df2 = df2.loc[df2[i] != -99999]"
      ],
      "metadata": {
        "id": "UFICaXIMWYQM"
      },
      "execution_count": 9,
      "outputs": []
    },
    {
      "cell_type": "code",
      "source": [
        "for i in list(df1.columns):\n",
        "    if i in list(df2.columns):\n",
        "        print(i)"
      ],
      "metadata": {
        "colab": {
          "base_uri": "https://localhost:8080/"
        },
        "id": "ucxTS6I7WaVE",
        "outputId": "23fa4852-9293-43b9-d231-de0700fa6d49"
      },
      "execution_count": 10,
      "outputs": [
        {
          "output_type": "stream",
          "name": "stdout",
          "text": [
            "PROSPECTID\n"
          ]
        }
      ]
    },
    {
      "cell_type": "code",
      "source": [
        "df = pd.merge(df1, df2, how='inner', left_on=['PROSPECTID'], right_on=['PROSPECTID'])\n"
      ],
      "metadata": {
        "id": "aXYM1OIzWckh"
      },
      "execution_count": 11,
      "outputs": []
    },
    {
      "cell_type": "code",
      "source": [
        "for i in df.columns:\n",
        "    if df[i].dtype == 'object':\n",
        "        print(i)"
      ],
      "metadata": {
        "colab": {
          "base_uri": "https://localhost:8080/"
        },
        "id": "SJJjqHpSWfuG",
        "outputId": "b08c60de-d81d-4694-b7fe-24615f27b22d"
      },
      "execution_count": 12,
      "outputs": [
        {
          "output_type": "stream",
          "name": "stdout",
          "text": [
            "MARITALSTATUS\n",
            "EDUCATION\n",
            "GENDER\n",
            "last_prod_enq2\n",
            "first_prod_enq2\n",
            "Approved_Flag\n"
          ]
        }
      ]
    },
    {
      "cell_type": "code",
      "source": [
        "for i in ['MARITALSTATUS', 'EDUCATION', 'GENDER', 'last_prod_enq2', 'first_prod_enq2']:\n",
        "    chi2, pval, _, _ = chi2_contingency(pd.crosstab(df[i], df['Approved_Flag']))\n",
        "    print(i, '---', pval)\n"
      ],
      "metadata": {
        "colab": {
          "base_uri": "https://localhost:8080/"
        },
        "id": "FIRO9vSmWiLF",
        "outputId": "03bdd60e-d048-4af7-97d2-592257a4225c"
      },
      "execution_count": 13,
      "outputs": [
        {
          "output_type": "stream",
          "name": "stdout",
          "text": [
            "MARITALSTATUS --- 3.6401547776371343e-233\n",
            "EDUCATION --- 2.8651007585199264e-30\n",
            "GENDER --- 1.8610038357046495e-05\n",
            "last_prod_enq2 --- 0.0\n",
            "first_prod_enq2 --- 8.375872889007583e-287\n"
          ]
        }
      ]
    },
    {
      "cell_type": "code",
      "source": [
        "numeric_columns = []\n",
        "for i in df.columns:\n",
        "    if df[i].dtype != 'object' and i not in ['PROSPECTID', 'Approved_Flag']:\n",
        "        numeric_columns.append(i)"
      ],
      "metadata": {
        "id": "qFwhUK6VWnMG"
      },
      "execution_count": 14,
      "outputs": []
    },
    {
      "cell_type": "code",
      "source": [
        "vif_data = df[numeric_columns]\n",
        "total_columns = vif_data.shape[1]\n",
        "columns_to_be_kept = []\n",
        "column_index = 0\n",
        "for i in range(total_columns):\n",
        "    vif_value = variance_inflation_factor(vif_data, column_index)\n",
        "    print(column_index, '---', vif_value)\n",
        "    if vif_value <= 6:\n",
        "        columns_to_be_kept.append(numeric_columns[i])\n",
        "        column_index += 1\n",
        "    else:\n",
        "        vif_data = vif_data.drop([numeric_columns[i]], axis=1)\n"
      ],
      "metadata": {
        "colab": {
          "base_uri": "https://localhost:8080/"
        },
        "id": "CD-FZ71RWps2",
        "outputId": "9718260e-4788-4c8b-d262-7db54dd60fde"
      },
      "execution_count": 15,
      "outputs": [
        {
          "output_type": "stream",
          "name": "stderr",
          "text": [
            "/usr/local/lib/python3.10/dist-packages/statsmodels/stats/outliers_influence.py:197: RuntimeWarning: divide by zero encountered in scalar divide\n",
            "  vif = 1. / (1. - r_squared_i)\n"
          ]
        },
        {
          "output_type": "stream",
          "name": "stdout",
          "text": [
            "0 --- inf\n"
          ]
        },
        {
          "output_type": "stream",
          "name": "stderr",
          "text": [
            "/usr/local/lib/python3.10/dist-packages/statsmodels/stats/outliers_influence.py:197: RuntimeWarning: divide by zero encountered in scalar divide\n",
            "  vif = 1. / (1. - r_squared_i)\n"
          ]
        },
        {
          "output_type": "stream",
          "name": "stdout",
          "text": [
            "0 --- inf\n",
            "0 --- 11.319677860911183\n",
            "0 --- 8.291829772566755\n",
            "0 --- 6.520138234382173\n",
            "0 --- 5.059265701555735\n",
            "1 --- 2.6064779388021027\n"
          ]
        },
        {
          "output_type": "stream",
          "name": "stderr",
          "text": [
            "/usr/local/lib/python3.10/dist-packages/statsmodels/stats/outliers_influence.py:197: RuntimeWarning: divide by zero encountered in scalar divide\n",
            "  vif = 1. / (1. - r_squared_i)\n"
          ]
        },
        {
          "output_type": "stream",
          "name": "stdout",
          "text": [
            "2 --- inf\n",
            "2 --- 1779.2530019989363\n",
            "2 --- 8.57605846135607\n",
            "2 --- 3.8295656471637\n",
            "3 --- 5.4692110955705875\n",
            "4 --- 5.503957502932511\n",
            "5 --- 1.973712154119323\n"
          ]
        },
        {
          "output_type": "stream",
          "name": "stderr",
          "text": [
            "/usr/local/lib/python3.10/dist-packages/statsmodels/stats/outliers_influence.py:197: RuntimeWarning: divide by zero encountered in scalar divide\n",
            "  vif = 1. / (1. - r_squared_i)\n"
          ]
        },
        {
          "output_type": "stream",
          "name": "stdout",
          "text": [
            "6 --- inf\n",
            "6 --- 4.811919298953734\n",
            "7 --- 23.146961044026003\n",
            "7 --- 30.634993848319926\n",
            "7 --- 4.384922735753697\n",
            "8 --- 3.064866354116124\n",
            "9 --- 2.8932461784347443\n",
            "10 --- 4.369654303665843\n",
            "11 --- 2.208341258584075\n",
            "12 --- 566.1909055769335\n",
            "12 --- 1.0006593766842498\n",
            "13 --- 1.9695830645742571\n",
            "14 --- 7.841218783259259\n",
            "14 --- 5.247703415624756\n"
          ]
        },
        {
          "output_type": "stream",
          "name": "stderr",
          "text": [
            "/usr/local/lib/python3.10/dist-packages/statsmodels/stats/outliers_influence.py:197: RuntimeWarning: divide by zero encountered in scalar divide\n",
            "  vif = 1. / (1. - r_squared_i)\n"
          ]
        },
        {
          "output_type": "stream",
          "name": "stdout",
          "text": [
            "15 --- inf\n",
            "15 --- 7.377956585088553\n",
            "15 --- 1.425793366814442\n",
            "16 --- 8.084822288044927\n",
            "16 --- 1.6226699218393807\n",
            "17 --- 7.238615905249871\n",
            "17 --- 15.645211505952776\n",
            "17 --- 1.8184084209088587\n",
            "18 --- 1.5055024528703032\n",
            "19 --- 2.1720129343912165\n",
            "20 --- 2.6235392775473527\n",
            "21 --- 2.292927625739703\n",
            "22 --- 7.358811901616798\n",
            "22 --- 2.1583860086471645\n",
            "23 --- 2.865198364020101\n",
            "24 --- 6.457951397444763\n",
            "24 --- 2.8464061660262128\n",
            "25 --- 4.751462405159283\n",
            "26 --- 16.664353050297613\n",
            "26 --- 6.433862464128575\n",
            "26 --- 8.905695279309262\n",
            "26 --- 2.3948438776920553\n",
            "27 --- 8.625154493499016\n",
            "27 --- 13.097583499300075\n",
            "27 --- 3.5102775257188883\n",
            "28 --- 1.84612473749155\n",
            "29 --- 18.35043652870675\n",
            "29 --- 10.708249343242189\n",
            "29 --- 2.3460067597985903\n",
            "30 --- 21.54248963193387\n",
            "30 --- 2.796240194688435\n",
            "31 --- 3.373862552634249\n",
            "32 --- 9.973017265651695\n",
            "32 --- 6.092683218698291\n",
            "32 --- 1.0011742340538416\n",
            "33 --- 3.0642351806835473\n",
            "34 --- 2.807411739205449\n",
            "35 --- 20.28118581063136\n",
            "35 --- 15.881630139889586\n",
            "35 --- 1.8328052344483379\n",
            "36 --- 1.5682347319653953\n",
            "37 --- 1.8780555342424194\n",
            "38 --- 4.3267589683233965\n",
            "39 --- 10.843732672072079\n"
          ]
        }
      ]
    },
    {
      "cell_type": "code",
      "source": [
        "from scipy.stats import f_oneway\n",
        "\n",
        "columns_to_be_kept_numerical = []\n",
        "for i in columns_to_be_kept:\n",
        "    a = list(df[i])\n",
        "    b = list(df['Approved_Flag'])\n",
        "\n",
        "    group_P1 = [value for value, group in zip(a, b) if group == 'P1']\n",
        "    group_P2 = [value for value, group in zip(a, b) if group == 'P2']\n",
        "    group_P3 = [value for value, group in zip(a, b) if group == 'P3']\n",
        "    group_P4 = [value for value, group in zip(a, b) if group == 'P4']\n",
        "\n",
        "    f_statistic, p_value = f_oneway(group_P1, group_P2, group_P3, group_P4)\n",
        "    if p_value <= 0.05:\n",
        "        columns_to_be_kept_numerical.append(i)"
      ],
      "metadata": {
        "id": "BCQjF8SjWsWF"
      },
      "execution_count": 16,
      "outputs": []
    },
    {
      "cell_type": "code",
      "source": [
        "features = columns_to_be_kept_numerical + ['MARITALSTATUS', 'EDUCATION', 'GENDER', 'last_prod_enq2', 'first_prod_enq2']\n",
        "df = df[features + ['Approved_Flag']]\n",
        "\n",
        "# Encoding categorical features\n",
        "df['EDUCATION'] = df['EDUCATION'].replace({\n",
        "    'SSC': 1, '12TH': 2, 'GRADUATE': 3, 'UNDER GRADUATE': 3,\n",
        "    'POST-GRADUATE': 4, 'OTHERS': 1, 'PROFESSIONAL': 3\n",
        "}).astype(int)"
      ],
      "metadata": {
        "colab": {
          "base_uri": "https://localhost:8080/"
        },
        "id": "RZWp-eFVWzK-",
        "outputId": "ed132c2b-bc11-4497-d177-1bee4f8204b3"
      },
      "execution_count": 17,
      "outputs": [
        {
          "output_type": "stream",
          "name": "stderr",
          "text": [
            "<ipython-input-17-5129b0fb7229>:5: FutureWarning: Downcasting behavior in `replace` is deprecated and will be removed in a future version. To retain the old behavior, explicitly call `result.infer_objects(copy=False)`. To opt-in to the future behavior, set `pd.set_option('future.no_silent_downcasting', True)`\n",
            "  df['EDUCATION'] = df['EDUCATION'].replace({\n",
            "<ipython-input-17-5129b0fb7229>:5: SettingWithCopyWarning: \n",
            "A value is trying to be set on a copy of a slice from a DataFrame.\n",
            "Try using .loc[row_indexer,col_indexer] = value instead\n",
            "\n",
            "See the caveats in the documentation: https://pandas.pydata.org/pandas-docs/stable/user_guide/indexing.html#returning-a-view-versus-a-copy\n",
            "  df['EDUCATION'] = df['EDUCATION'].replace({\n"
          ]
        }
      ]
    },
    {
      "cell_type": "code",
      "source": [
        "df_encoded = pd.get_dummies(df, columns=['MARITALSTATUS', 'GENDER', 'last_prod_enq2', 'first_prod_enq2'])"
      ],
      "metadata": {
        "id": "PBsgwKVWW5OD"
      },
      "execution_count": 19,
      "outputs": []
    },
    {
      "cell_type": "code",
      "source": [
        "y = df_encoded['Approved_Flag']\n",
        "x = df_encoded.drop(['Approved_Flag'], axis=1)\n",
        "\n",
        "x_train, x_test, y_train, y_test = train_test_split(x, y, test_size=0.2, random_state=42)"
      ],
      "metadata": {
        "id": "APfZ-feyW5cN"
      },
      "execution_count": 20,
      "outputs": []
    },
    {
      "cell_type": "code",
      "source": [
        "rf_classifier = RandomForestClassifier(n_estimators=200, random_state=42)\n",
        "rf_classifier.fit(x_train, y_train)\n",
        "y_pred = rf_classifier.predict(x_test)"
      ],
      "metadata": {
        "id": "rtNmiSD4W9DO"
      },
      "execution_count": 21,
      "outputs": []
    },
    {
      "cell_type": "code",
      "source": [
        "accuracy = accuracy_score(y_test, y_pred)\n",
        "print(f'Accuracy: {accuracy:.2f}')\n",
        "precision, recall, f1_score, _ = precision_recall_fscore_support(y_test, y_pred)\n"
      ],
      "metadata": {
        "colab": {
          "base_uri": "https://localhost:8080/"
        },
        "id": "f9tzUnceXBoW",
        "outputId": "0f002f84-d9b9-4603-c1f5-e47e08fbdfcd"
      },
      "execution_count": 22,
      "outputs": [
        {
          "output_type": "stream",
          "name": "stdout",
          "text": [
            "Accuracy: 0.74\n"
          ]
        }
      ]
    },
    {
      "cell_type": "code",
      "source": [
        "for i, v in enumerate(['p1', 'p2', 'p3', 'p4']):\n",
        "    print(f\"Class {v}: Precision: {precision[i]}, Recall: {recall[i]}, F1 Score: {f1_score[i]}\")"
      ],
      "metadata": {
        "colab": {
          "base_uri": "https://localhost:8080/"
        },
        "id": "POMSwYIOXFnt",
        "outputId": "539aaf72-b623-4dac-947c-c0e1e42c24a2"
      },
      "execution_count": 23,
      "outputs": [
        {
          "output_type": "stream",
          "name": "stdout",
          "text": [
            "Class p1: Precision: 0.7637271214642263, Recall: 0.4727085478887745, F1 Score: 0.583969465648855\n",
            "Class p2: Precision: 0.764026931708881, Recall: 0.9272373540856031, F1 Score: 0.8377570750571278\n",
            "Class p3: Precision: 0.4408014571948998, Recall: 0.19626926196269262, F1 Score: 0.2716049382716049\n",
            "Class p4: Precision: 0.7261208576998051, Recall: 0.6962616822429907, F1 Score: 0.7108778625954199\n"
          ]
        }
      ]
    },
    {
      "cell_type": "code",
      "source": [
        "import xgboost as xgb\n",
        "from sklearn.preprocessing import LabelEncoder\n",
        "\n",
        "xgb_classifier = xgb.XGBClassifier(objective='multi:softmax', num_class=4)\n",
        "\n",
        "label_encoder = LabelEncoder()\n",
        "y_encoded = label_encoder.fit_transform(y)\n",
        "\n",
        "x_train, x_test, y_train, y_test = train_test_split(x, y_encoded, test_size=0.2, random_state=42)\n",
        "xgb_classifier.fit(x_train, y_train)\n",
        "y_pred = xgb_classifier.predict(x_test)\n",
        "\n",
        "# Evaluate XGBoost Model\n",
        "accuracy = accuracy_score(y_test, y_pred)\n",
        "print(f'XGBoost Accuracy: {accuracy:.2f}')\n",
        "precision, recall, f1_score, _ = precision_recall_fscore_support(y_test, y_pred)\n",
        "\n",
        "# Display performance for each class in XGBoost\n",
        "for i, v in enumerate(['p1', 'p2', 'p3', 'p4']):\n",
        "    print(f\"Class {v}: Precision: {precision[i]}, Recall: {recall[i]}, F1 Score: {f1_score[i]}\")\n"
      ],
      "metadata": {
        "colab": {
          "base_uri": "https://localhost:8080/"
        },
        "id": "wKw3UTgUXGxf",
        "outputId": "6c9394b2-6062-4eae-a1f9-5418102773d5"
      },
      "execution_count": 24,
      "outputs": [
        {
          "output_type": "stream",
          "name": "stdout",
          "text": [
            "XGBoost Accuracy: 0.74\n",
            "Class p1: Precision: 0.7340720221606648, Recall: 0.5458290422245108, F1 Score: 0.6261075014766686\n",
            "Class p2: Precision: 0.7852225020990764, Recall: 0.909727626459144, F1 Score: 0.8429022082018928\n",
            "Class p3: Precision: 0.43411927877947293, Recall: 0.25385239253852393, F1 Score: 0.3203684749232344\n",
            "Class p4: Precision: 0.7283464566929134, Recall: 0.6915887850467289, F1 Score: 0.7094918504314478\n"
          ]
        }
      ]
    },
    {
      "cell_type": "code",
      "source": [
        "\n",
        "# Decision Tree Classifier training\n",
        "from sklearn.tree import DecisionTreeClassifier\n",
        "\n",
        "dt_model = DecisionTreeClassifier(max_depth=20, min_samples_split=10)\n",
        "dt_model.fit(x_train, y_train)\n",
        "y_pred = dt_model.predict(x_test)\n",
        "\n",
        "# Evaluate Decision Tree Model\n",
        "accuracy = accuracy_score(y_test, y_pred)\n",
        "print(f'Decision Tree Accuracy: {accuracy:.2f}')\n",
        "precision, recall, f1_score, _ = precision_recall_fscore_support(y_test, y_pred)\n",
        "\n",
        "# Display Decision Tree performance\n",
        "for i, v in enumerate(['p1', 'p2', 'p3', 'p4']):\n",
        "    print(f\"Class {v}: Precision: {precision[i]}, Recall: {recall[i]}, F1 Score: {f1_score[i]}\")"
      ],
      "metadata": {
        "colab": {
          "base_uri": "https://localhost:8080/"
        },
        "id": "PgeZX-uBXMXG",
        "outputId": "8a5c8b53-651d-47bf-f40d-245b7ba3273e"
      },
      "execution_count": 25,
      "outputs": [
        {
          "output_type": "stream",
          "name": "stdout",
          "text": [
            "Decision Tree Accuracy: 0.67\n",
            "Class p1: Precision: 0.5424274973147154, Recall: 0.5200823892893924, F1 Score: 0.5310199789695058\n",
            "Class p2: Precision: 0.7662217278457546, Recall: 0.8040856031128405, F1 Score: 0.7846971710651225\n",
            "Class p3: Precision: 0.3156934306569343, Recall: 0.28061638280616386, F1 Score: 0.2971232288535852\n",
            "Class p4: Precision: 0.6253776435045317, Recall: 0.5803738317757009, F1 Score: 0.6020358700920989\n"
          ]
        }
      ]
    }
  ]
}